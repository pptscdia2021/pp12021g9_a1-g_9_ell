{
 "cells": [
  {
   "cell_type": "code",
   "execution_count": 22,
   "source": [
    "# importamos las librerias necesarias\r\n",
    "import pandas as pd\r\n",
    "import matplotlib.pyplot as plt\r\n",
    "import matplotlib"
   ],
   "outputs": [],
   "metadata": {}
  },
  {
   "cell_type": "code",
   "execution_count": 19,
   "source": [
    "df_ypf_arg = pd.read_csv(\"df_ypf_arg.csv\")\r\n",
    "df_ml_arg = pd.read_csv(\"df_ml_arg.csv\")\r\n",
    "df_ypf_eeuu = pd.read_csv(\"df_ypf_eeuu.csv\")\r\n",
    "df_meli_arg = pd.read_csv(\"df_meli_eeuu.csv\")\r\n"
   ],
   "outputs": [],
   "metadata": {}
  },
  {
   "cell_type": "code",
   "execution_count": 20,
   "source": [
    "df_ypf_arg['Close'].describe()\r\n"
   ],
   "outputs": [
    {
     "output_type": "execute_result",
     "data": {
      "text/plain": [
       "count     23.000000\n",
       "mean     908.869565\n",
       "std       32.585401\n",
       "min      863.900000\n",
       "25%      879.000000\n",
       "50%      907.900000\n",
       "75%      936.975000\n",
       "max      965.000000\n",
       "Name: Close, dtype: float64"
      ]
     },
     "metadata": {},
     "execution_count": 20
    }
   ],
   "metadata": {}
  },
  {
   "cell_type": "code",
   "execution_count": 25,
   "source": [
    "\r\n",
    "\r\n",
    "plt.plot(,df_ypf_arg[\"Close\"])\r\n"
   ],
   "outputs": [
    {
     "output_type": "error",
     "ename": "SyntaxError",
     "evalue": "invalid syntax (<ipython-input-25-af8a01730312>, line 1)",
     "traceback": [
      "\u001b[1;36m  File \u001b[1;32m\"<ipython-input-25-af8a01730312>\"\u001b[1;36m, line \u001b[1;32m1\u001b[0m\n\u001b[1;33m    plt.plot(,df_ypf_arg[\"Close\"])\u001b[0m\n\u001b[1;37m             ^\u001b[0m\n\u001b[1;31mSyntaxError\u001b[0m\u001b[1;31m:\u001b[0m invalid syntax\n"
     ]
    }
   ],
   "metadata": {}
  }
 ],
 "metadata": {
  "kernelspec": {
   "name": "python3",
   "display_name": "Python 3.8.10 64-bit ('base': conda)"
  },
  "language_info": {
   "codemirror_mode": {
    "name": "ipython",
    "version": 3
   },
   "file_extension": ".py",
   "mimetype": "text/x-python",
   "name": "python",
   "nbconvert_exporter": "python",
   "pygments_lexer": "ipython3",
   "version": "3.8.10"
  },
  "interpreter": {
   "hash": "7f949684540970575b0062cc2668a615512eda9309bc9f43166d06c4c5b01bea"
  }
 },
 "nbformat": 4,
 "nbformat_minor": 5
}