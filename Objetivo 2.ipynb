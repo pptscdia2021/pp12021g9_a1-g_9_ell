{
 "cells": [
  {
   "cell_type": "code",
   "execution_count": 2,
   "source": [
    "# importamos las librerias necesarias\r\n",
    "import pandas as pd"
   ],
   "outputs": [],
   "metadata": {}
  },
  {
   "cell_type": "code",
   "execution_count": 3,
   "source": [
    "# Cargamos el archivo csv a un dataframe\r\n",
    "df=pd.read_csv('acciones_bma.csv')"
   ],
   "outputs": [],
   "metadata": {}
  },
  {
   "cell_type": "code",
   "execution_count": 4,
   "source": [
    "# Ordenamos el dataframe segun la columna \"Var.\" y guardamos las dos variaciones minimas\r\n",
    "df_min=df.sort_values(by=['Var.']).head(2)\r\n",
    "df_min"
   ],
   "outputs": [
    {
     "output_type": "execute_result",
     "data": {
      "text/html": [
       "<div>\n",
       "<style scoped>\n",
       "    .dataframe tbody tr th:only-of-type {\n",
       "        vertical-align: middle;\n",
       "    }\n",
       "\n",
       "    .dataframe tbody tr th {\n",
       "        vertical-align: top;\n",
       "    }\n",
       "\n",
       "    .dataframe thead th {\n",
       "        text-align: right;\n",
       "    }\n",
       "</style>\n",
       "<table border=\"1\" class=\"dataframe\">\n",
       "  <thead>\n",
       "    <tr style=\"text-align: right;\">\n",
       "      <th></th>\n",
       "      <th>Unnamed: 0</th>\n",
       "      <th>Nombre</th>\n",
       "      <th>Precio</th>\n",
       "      <th>Var.</th>\n",
       "      <th>Max.</th>\n",
       "      <th>Min.</th>\n",
       "      <th>Fecha</th>\n",
       "    </tr>\n",
       "  </thead>\n",
       "  <tbody>\n",
       "    <tr>\n",
       "      <th>8</th>\n",
       "      <td>8</td>\n",
       "      <td>BA.SABADELL</td>\n",
       "      <td>0,7256</td>\n",
       "      <td>-0,14</td>\n",
       "      <td>0,7434</td>\n",
       "      <td>0,7118</td>\n",
       "      <td>2021-09-30 22:57:58.358816</td>\n",
       "    </tr>\n",
       "    <tr>\n",
       "      <th>24</th>\n",
       "      <td>24</td>\n",
       "      <td>MAPFRE</td>\n",
       "      <td>1,8850</td>\n",
       "      <td>-0,37</td>\n",
       "      <td>1,9140</td>\n",
       "      <td>1,8810</td>\n",
       "      <td>2021-09-30 22:57:58.420010</td>\n",
       "    </tr>\n",
       "  </tbody>\n",
       "</table>\n",
       "</div>"
      ],
      "text/plain": [
       "    Unnamed: 0       Nombre  Precio   Var.    Max.    Min.  \\\n",
       "8            8  BA.SABADELL  0,7256  -0,14  0,7434  0,7118   \n",
       "24          24       MAPFRE  1,8850  -0,37  1,9140  1,8810   \n",
       "\n",
       "                         Fecha  \n",
       "8   2021-09-30 22:57:58.358816  \n",
       "24  2021-09-30 22:57:58.420010  "
      ]
     },
     "metadata": {},
     "execution_count": 4
    }
   ],
   "metadata": {}
  },
  {
   "cell_type": "code",
   "execution_count": 14,
   "source": [
    "# Ordenamos el dataframe segun la columna \"Var.\" y guardamos las dos variaciones maximas\r\n",
    "\r\n",
    "df_max=df.sort_values(by=['Var.']).tail(2)\r\n",
    "\r\n",
    "df_max"
   ],
   "outputs": [
    {
     "output_type": "execute_result",
     "data": {
      "text/html": [
       "<div>\n",
       "<style scoped>\n",
       "    .dataframe tbody tr th:only-of-type {\n",
       "        vertical-align: middle;\n",
       "    }\n",
       "\n",
       "    .dataframe tbody tr th {\n",
       "        vertical-align: top;\n",
       "    }\n",
       "\n",
       "    .dataframe thead th {\n",
       "        text-align: right;\n",
       "    }\n",
       "</style>\n",
       "<table border=\"1\" class=\"dataframe\">\n",
       "  <thead>\n",
       "    <tr style=\"text-align: right;\">\n",
       "      <th></th>\n",
       "      <th>Unnamed: 0</th>\n",
       "      <th>Nombre</th>\n",
       "      <th>Precio</th>\n",
       "      <th>Var.</th>\n",
       "      <th>Max.</th>\n",
       "      <th>Min.</th>\n",
       "      <th>Fecha</th>\n",
       "    </tr>\n",
       "  </thead>\n",
       "  <tbody>\n",
       "    <tr>\n",
       "      <th>22</th>\n",
       "      <td>22</td>\n",
       "      <td>INDRA A</td>\n",
       "      <td>9,2800</td>\n",
       "      <td>1,37</td>\n",
       "      <td>9,4500</td>\n",
       "      <td>9,2200</td>\n",
       "      <td>2021-09-30 22:57:58.410008</td>\n",
       "    </tr>\n",
       "    <tr>\n",
       "      <th>6</th>\n",
       "      <td>6</td>\n",
       "      <td>ARCELORMIT.</td>\n",
       "      <td>26,4250</td>\n",
       "      <td>2,11</td>\n",
       "      <td>26,5500</td>\n",
       "      <td>26,0300</td>\n",
       "      <td>2021-09-30 22:57:58.348738</td>\n",
       "    </tr>\n",
       "  </tbody>\n",
       "</table>\n",
       "</div>"
      ],
      "text/plain": [
       "    Unnamed: 0       Nombre   Precio  Var.     Max.     Min.  \\\n",
       "22          22      INDRA A   9,2800  1,37   9,4500   9,2200   \n",
       "6            6  ARCELORMIT.  26,4250  2,11  26,5500  26,0300   \n",
       "\n",
       "                         Fecha  \n",
       "22  2021-09-30 22:57:58.410008  \n",
       "6   2021-09-30 22:57:58.348738  "
      ]
     },
     "metadata": {},
     "execution_count": 14
    }
   ],
   "metadata": {}
  },
  {
   "cell_type": "code",
   "execution_count": 6,
   "source": [
    "# Ya sólo nos queda guardar los datos para usar en el futuro.\r\n",
    "df_max.to_csv('bma_max.csv')\r\n",
    "df_min.to_csv('bma_min.csv')"
   ],
   "outputs": [],
   "metadata": {}
  }
 ],
 "metadata": {
  "kernelspec": {
   "name": "python3",
   "display_name": "Python 3.8.8 64-bit ('base': conda)"
  },
  "language_info": {
   "codemirror_mode": {
    "name": "ipython",
    "version": 3
   },
   "file_extension": ".py",
   "mimetype": "text/x-python",
   "name": "python",
   "nbconvert_exporter": "python",
   "pygments_lexer": "ipython3",
   "version": "3.8.8"
  },
  "interpreter": {
   "hash": "7f949684540970575b0062cc2668a615512eda9309bc9f43166d06c4c5b01bea"
  }
 },
 "nbformat": 4,
 "nbformat_minor": 5
}