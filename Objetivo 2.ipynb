{
 "cells": [
  {
   "cell_type": "code",
   "execution_count": 13,
   "source": [
    "# importamos las librerias necesarias\r\n",
    "import pandas as pd"
   ],
   "outputs": [],
   "metadata": {}
  },
  {
   "cell_type": "code",
   "execution_count": 14,
   "source": [
    "# Cargamos el archivo csv a un dataframe\r\n",
    "df=pd.read_csv('acciones_bma_01102021.csv')"
   ],
   "outputs": [],
   "metadata": {}
  },
  {
   "cell_type": "code",
   "execution_count": 15,
   "source": [
    "# Ordenamos el dataframe segun la columna \"Var.\" y guardamos las dos variaciones minimas\r\n",
    "df_min_01102021=df.sort_values(by=['Var%']).head(2)\r\n",
    "df_min_01102021"
   ],
   "outputs": [
    {
     "output_type": "execute_result",
     "data": {
      "text/html": [
       "<div>\n",
       "<style scoped>\n",
       "    .dataframe tbody tr th:only-of-type {\n",
       "        vertical-align: middle;\n",
       "    }\n",
       "\n",
       "    .dataframe tbody tr th {\n",
       "        vertical-align: top;\n",
       "    }\n",
       "\n",
       "    .dataframe thead th {\n",
       "        text-align: right;\n",
       "    }\n",
       "</style>\n",
       "<table border=\"1\" class=\"dataframe\">\n",
       "  <thead>\n",
       "    <tr style=\"text-align: right;\">\n",
       "      <th></th>\n",
       "      <th>Unnamed: 0</th>\n",
       "      <th>Nombre</th>\n",
       "      <th>Precio</th>\n",
       "      <th>Var%</th>\n",
       "      <th>Max</th>\n",
       "      <th>Min</th>\n",
       "      <th>Fecha</th>\n",
       "    </tr>\n",
       "  </thead>\n",
       "  <tbody>\n",
       "    <tr>\n",
       "      <th>9</th>\n",
       "      <td>9</td>\n",
       "      <td>BANKINTER</td>\n",
       "      <td>5,0520</td>\n",
       "      <td>-0,32</td>\n",
       "      <td>5,0520</td>\n",
       "      <td>4,9600</td>\n",
       "      <td>2021-10-01 20:39:26.968764</td>\n",
       "    </tr>\n",
       "    <tr>\n",
       "      <th>7</th>\n",
       "      <td>7</td>\n",
       "      <td>B.SANTANDER</td>\n",
       "      <td>3,1235</td>\n",
       "      <td>-0,41</td>\n",
       "      <td>3,1410</td>\n",
       "      <td>3,0415</td>\n",
       "      <td>2021-10-01 20:39:26.958762</td>\n",
       "    </tr>\n",
       "  </tbody>\n",
       "</table>\n",
       "</div>"
      ],
      "text/plain": [
       "   Unnamed: 0       Nombre  Precio   Var%     Max     Min  \\\n",
       "9           9    BANKINTER  5,0520  -0,32  5,0520  4,9600   \n",
       "7           7  B.SANTANDER  3,1235  -0,41  3,1410  3,0415   \n",
       "\n",
       "                        Fecha  \n",
       "9  2021-10-01 20:39:26.968764  \n",
       "7  2021-10-01 20:39:26.958762  "
      ]
     },
     "metadata": {},
     "execution_count": 15
    }
   ],
   "metadata": {}
  },
  {
   "cell_type": "code",
   "execution_count": 16,
   "source": [
    "# Ordenamos el dataframe segun la columna \"Var.\" y guardamos las dos variaciones maximas\r\n",
    "\r\n",
    "df_max_01102021=df.sort_values(by=['Var%']).tail(2)\r\n",
    "\r\n",
    "df_max_01102021"
   ],
   "outputs": [
    {
     "output_type": "execute_result",
     "data": {
      "text/html": [
       "<div>\n",
       "<style scoped>\n",
       "    .dataframe tbody tr th:only-of-type {\n",
       "        vertical-align: middle;\n",
       "    }\n",
       "\n",
       "    .dataframe tbody tr th {\n",
       "        vertical-align: top;\n",
       "    }\n",
       "\n",
       "    .dataframe thead th {\n",
       "        text-align: right;\n",
       "    }\n",
       "</style>\n",
       "<table border=\"1\" class=\"dataframe\">\n",
       "  <thead>\n",
       "    <tr style=\"text-align: right;\">\n",
       "      <th></th>\n",
       "      <th>Unnamed: 0</th>\n",
       "      <th>Nombre</th>\n",
       "      <th>Precio</th>\n",
       "      <th>Var%</th>\n",
       "      <th>Max</th>\n",
       "      <th>Min</th>\n",
       "      <th>Fecha</th>\n",
       "    </tr>\n",
       "  </thead>\n",
       "  <tbody>\n",
       "    <tr>\n",
       "      <th>19</th>\n",
       "      <td>19</td>\n",
       "      <td>IAG</td>\n",
       "      <td>2,1930</td>\n",
       "      <td>5,43</td>\n",
       "      <td>2,1930</td>\n",
       "      <td>1,9830</td>\n",
       "      <td>2021-10-01 20:39:27.033868</td>\n",
       "    </tr>\n",
       "    <tr>\n",
       "      <th>25</th>\n",
       "      <td>25</td>\n",
       "      <td>MELIA HOTELS</td>\n",
       "      <td>6,8080</td>\n",
       "      <td>5,88</td>\n",
       "      <td>6,8080</td>\n",
       "      <td>6,2520</td>\n",
       "      <td>2021-10-01 20:39:27.065858</td>\n",
       "    </tr>\n",
       "  </tbody>\n",
       "</table>\n",
       "</div>"
      ],
      "text/plain": [
       "    Unnamed: 0        Nombre  Precio  Var%     Max     Min  \\\n",
       "19          19           IAG  2,1930  5,43  2,1930  1,9830   \n",
       "25          25  MELIA HOTELS  6,8080  5,88  6,8080  6,2520   \n",
       "\n",
       "                         Fecha  \n",
       "19  2021-10-01 20:39:27.033868  \n",
       "25  2021-10-01 20:39:27.065858  "
      ]
     },
     "metadata": {},
     "execution_count": 16
    }
   ],
   "metadata": {}
  },
  {
   "cell_type": "code",
   "execution_count": 17,
   "source": [
    "# Ya sólo nos queda guardar los datos para usar en el futuro.\r\n",
    "df_max.to_csv('bma_max_01102021.csv')\r\n",
    "df_min.to_csv('bma_min_01102021.csv')"
   ],
   "outputs": [
    {
     "output_type": "error",
     "ename": "NameError",
     "evalue": "name 'df_max' is not defined",
     "traceback": [
      "\u001b[1;31m---------------------------------------------------------------------------\u001b[0m",
      "\u001b[1;31mNameError\u001b[0m                                 Traceback (most recent call last)",
      "\u001b[1;32m<ipython-input-17-92d380ac4f20>\u001b[0m in \u001b[0;36m<module>\u001b[1;34m\u001b[0m\n\u001b[0;32m      1\u001b[0m \u001b[1;31m# Ya sólo nos queda guardar los datos para usar en el futuro.\u001b[0m\u001b[1;33m\u001b[0m\u001b[1;33m\u001b[0m\u001b[1;33m\u001b[0m\u001b[0m\n\u001b[1;32m----> 2\u001b[1;33m \u001b[0mdf_max\u001b[0m\u001b[1;33m.\u001b[0m\u001b[0mto_csv\u001b[0m\u001b[1;33m(\u001b[0m\u001b[1;34m'bma_max_01102021.csv'\u001b[0m\u001b[1;33m)\u001b[0m\u001b[1;33m\u001b[0m\u001b[1;33m\u001b[0m\u001b[0m\n\u001b[0m\u001b[0;32m      3\u001b[0m \u001b[0mdf_min\u001b[0m\u001b[1;33m.\u001b[0m\u001b[0mto_csv\u001b[0m\u001b[1;33m(\u001b[0m\u001b[1;34m'bma_min_01102021.csv'\u001b[0m\u001b[1;33m)\u001b[0m\u001b[1;33m\u001b[0m\u001b[1;33m\u001b[0m\u001b[0m\n",
      "\u001b[1;31mNameError\u001b[0m: name 'df_max' is not defined"
     ]
    }
   ],
   "metadata": {}
  }
 ],
 "metadata": {
  "kernelspec": {
   "name": "python3",
   "display_name": "Python 3.8.8 64-bit ('base': conda)"
  },
  "language_info": {
   "codemirror_mode": {
    "name": "ipython",
    "version": 3
   },
   "file_extension": ".py",
   "mimetype": "text/x-python",
   "name": "python",
   "nbconvert_exporter": "python",
   "pygments_lexer": "ipython3",
   "version": "3.8.8"
  },
  "interpreter": {
   "hash": "7f949684540970575b0062cc2668a615512eda9309bc9f43166d06c4c5b01bea"
  }
 },
 "nbformat": 4,
 "nbformat_minor": 5
}