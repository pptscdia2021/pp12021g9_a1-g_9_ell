{
 "cells": [
  {
   "cell_type": "code",
   "execution_count": 7,
   "id": "022a6602",
   "metadata": {},
   "outputs": [],
   "source": [
    "# importamos las librerias necesarias\n",
    "import pandas as pd"
   ]
  },
  {
   "cell_type": "code",
   "execution_count": 8,
   "id": "32520d3e",
   "metadata": {},
   "outputs": [],
   "source": [
    "# Cargamos el archivo csv a un dataframe\n",
    "df=pd.read_csv('acciones_bma.csv')"
   ]
  },
  {
   "cell_type": "code",
   "execution_count": 20,
   "id": "56600700",
   "metadata": {},
   "outputs": [
    {
     "data": {
      "text/html": [
       "<div>\n",
       "<style scoped>\n",
       "    .dataframe tbody tr th:only-of-type {\n",
       "        vertical-align: middle;\n",
       "    }\n",
       "\n",
       "    .dataframe tbody tr th {\n",
       "        vertical-align: top;\n",
       "    }\n",
       "\n",
       "    .dataframe thead th {\n",
       "        text-align: right;\n",
       "    }\n",
       "</style>\n",
       "<table border=\"1\" class=\"dataframe\">\n",
       "  <thead>\n",
       "    <tr style=\"text-align: right;\">\n",
       "      <th></th>\n",
       "      <th>Unnamed: 0</th>\n",
       "      <th>Nombre</th>\n",
       "      <th>Precio</th>\n",
       "      <th>Var.</th>\n",
       "      <th>Max.</th>\n",
       "      <th>Min.</th>\n",
       "      <th>Fecha</th>\n",
       "    </tr>\n",
       "  </thead>\n",
       "  <tbody>\n",
       "    <tr>\n",
       "      <th>8</th>\n",
       "      <td>8</td>\n",
       "      <td>BA.SABADELL</td>\n",
       "      <td>0,7256</td>\n",
       "      <td>-0,14</td>\n",
       "      <td>0,7434</td>\n",
       "      <td>0,7118</td>\n",
       "      <td>2021-09-30 22:57:58.358816</td>\n",
       "    </tr>\n",
       "    <tr>\n",
       "      <th>24</th>\n",
       "      <td>24</td>\n",
       "      <td>MAPFRE</td>\n",
       "      <td>1,8850</td>\n",
       "      <td>-0,37</td>\n",
       "      <td>1,9140</td>\n",
       "      <td>1,8810</td>\n",
       "      <td>2021-09-30 22:57:58.420010</td>\n",
       "    </tr>\n",
       "  </tbody>\n",
       "</table>\n",
       "</div>"
      ],
      "text/plain": [
       "    Unnamed: 0       Nombre  Precio   Var.    Max.    Min.  \\\n",
       "8            8  BA.SABADELL  0,7256  -0,14  0,7434  0,7118   \n",
       "24          24       MAPFRE  1,8850  -0,37  1,9140  1,8810   \n",
       "\n",
       "                         Fecha  \n",
       "8   2021-09-30 22:57:58.358816  \n",
       "24  2021-09-30 22:57:58.420010  "
      ]
     },
     "execution_count": 20,
     "metadata": {},
     "output_type": "execute_result"
    }
   ],
   "source": [
    "# Ordenamos el dataframe segun la columna \"Var.\" y guardamos las dos variaciones minimas\n",
    "df_min=df.sort_values(by=['Var.']).head(2)\n",
    "df_min"
   ]
  },
  {
   "cell_type": "code",
   "execution_count": 21,
   "id": "cbbf5510",
   "metadata": {},
   "outputs": [
    {
     "data": {
      "text/html": [
       "<div>\n",
       "<style scoped>\n",
       "    .dataframe tbody tr th:only-of-type {\n",
       "        vertical-align: middle;\n",
       "    }\n",
       "\n",
       "    .dataframe tbody tr th {\n",
       "        vertical-align: top;\n",
       "    }\n",
       "\n",
       "    .dataframe thead th {\n",
       "        text-align: right;\n",
       "    }\n",
       "</style>\n",
       "<table border=\"1\" class=\"dataframe\">\n",
       "  <thead>\n",
       "    <tr style=\"text-align: right;\">\n",
       "      <th></th>\n",
       "      <th>Unnamed: 0</th>\n",
       "      <th>Nombre</th>\n",
       "      <th>Precio</th>\n",
       "      <th>Var.</th>\n",
       "      <th>Max.</th>\n",
       "      <th>Min.</th>\n",
       "      <th>Fecha</th>\n",
       "    </tr>\n",
       "  </thead>\n",
       "  <tbody>\n",
       "    <tr>\n",
       "      <th>22</th>\n",
       "      <td>22</td>\n",
       "      <td>INDRA A</td>\n",
       "      <td>9,2800</td>\n",
       "      <td>1,37</td>\n",
       "      <td>9,4500</td>\n",
       "      <td>9,2200</td>\n",
       "      <td>2021-09-30 22:57:58.410008</td>\n",
       "    </tr>\n",
       "    <tr>\n",
       "      <th>6</th>\n",
       "      <td>6</td>\n",
       "      <td>ARCELORMIT.</td>\n",
       "      <td>26,4250</td>\n",
       "      <td>2,11</td>\n",
       "      <td>26,5500</td>\n",
       "      <td>26,0300</td>\n",
       "      <td>2021-09-30 22:57:58.348738</td>\n",
       "    </tr>\n",
       "  </tbody>\n",
       "</table>\n",
       "</div>"
      ],
      "text/plain": [
       "    Unnamed: 0       Nombre   Precio  Var.     Max.     Min.  \\\n",
       "22          22      INDRA A   9,2800  1,37   9,4500   9,2200   \n",
       "6            6  ARCELORMIT.  26,4250  2,11  26,5500  26,0300   \n",
       "\n",
       "                         Fecha  \n",
       "22  2021-09-30 22:57:58.410008  \n",
       "6   2021-09-30 22:57:58.348738  "
      ]
     },
     "execution_count": 21,
     "metadata": {},
     "output_type": "execute_result"
    }
   ],
   "source": [
    "# Ordenamos el dataframe segun la columna \"Var.\" y guardamos las dos variaciones maximas\n",
    "\n",
    "df_max=df.sort_values(by=['Var.']).tail(2)\n",
    "df_max"
   ]
  },
  {
   "cell_type": "code",
   "execution_count": null,
   "id": "e632e5f2",
   "metadata": {},
   "outputs": [],
   "source": []
  }
 ],
 "metadata": {
  "kernelspec": {
   "display_name": "Python 3",
   "language": "python",
   "name": "python3"
  },
  "language_info": {
   "codemirror_mode": {
    "name": "ipython",
    "version": 3
   },
   "file_extension": ".py",
   "mimetype": "text/x-python",
   "name": "python",
   "nbconvert_exporter": "python",
   "pygments_lexer": "ipython3",
   "version": "3.8.8"
  }
 },
 "nbformat": 4,
 "nbformat_minor": 5
}
