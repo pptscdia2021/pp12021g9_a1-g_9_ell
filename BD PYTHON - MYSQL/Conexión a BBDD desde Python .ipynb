{
 "cells": [
  {
   "cell_type": "markdown",
   "id": "3afbcf06",
   "metadata": {},
   "source": [
    "# Práctica Profesionalizante I - TSCDIA - 2021\n",
    "### Conexión a BBDD desde Python - MySql"
   ]
  },
  {
   "cell_type": "markdown",
   "id": "3311edf1",
   "metadata": {},
   "source": [
    "### Realizar la conexion a la BBDD employees"
   ]
  },
  {
   "cell_type": "code",
   "execution_count": null,
   "id": "df2968af",
   "metadata": {},
   "outputs": [],
   "source": [
    "import pymysql\n",
    "import pandas as pd\n"
   ]
  },
  {
   "cell_type": "code",
   "execution_count": null,
   "id": "d2357f5e",
   "metadata": {},
   "outputs": [],
   "source": [
    "try:\n",
    "\tconexion = pymysql.connect(host='localhost',\n",
    "                             user='root',\n",
    "                             password='********',\n",
    "                             db='employees')\n",
    "\tprint(\"Conexión correcta\")\n",
    "except (pymysql.err.OperationalError, pymysql.err.InternalError) as e:\n",
    "\tprint(\"Ocurrió un error al conectar: \", e)"
   ]
  },
  {
   "cell_type": "markdown",
   "id": "370ac1f8",
   "metadata": {},
   "source": [
    "### Obtenemos los datos de la tabla employees"
   ]
  },
  {
   "cell_type": "code",
   "execution_count": null,
   "id": "71f97a2d",
   "metadata": {},
   "outputs": [],
   "source": [
    "try:\n",
    "    conexion = pymysql.connect(host='localhost',\n",
    "                             user='root',\n",
    "                             password='********',\n",
    "                             db='employees')\n",
    "    try:\n",
    "        with conexion.cursor() as cursor:\n",
    "            # En este caso no necesitamos limpiar ningún dato\n",
    "            cursor.execute(\"SELECT * FROM employees;\")\n",
    " \n",
    "            # Con fetchall traemos todas las filas\n",
    "            employees = cursor.fetchall()\n",
    " \n",
    "            # Recorrer e imprimir\n",
    "            for emp in employees:\n",
    "                print(emp)\n",
    "    finally:\n",
    "        conexion.close()\n",
    "    \n",
    "except (pymysql.err.OperationalError, pymysql.err.InternalError) as e:\n",
    "    print(\"Ocurrió un error al conectar: \", e)"
   ]
  },
  {
   "cell_type": "markdown",
   "id": "dbd11a1d",
   "metadata": {},
   "source": [
    "### Obtenemos los datos de la tabla employees que sean mujeres"
   ]
  },
  {
   "cell_type": "code",
   "execution_count": null,
   "id": "822dbf20",
   "metadata": {},
   "outputs": [],
   "source": [
    "try:\n",
    "    conexion = pymysql.connect(host='localhost',\n",
    "                             user='root',\n",
    "                             password='********',\n",
    "                             db='employees')\n",
    "    try:\n",
    "        with conexion.cursor() as cursor:\n",
    "            consulta = \"SELECT emp_no, last_name FROM employees WHERE gender ='F';\"\n",
    "            cursor.execute(consulta)\n",
    " \n",
    "            # Con fetchall traemos todas las filas\n",
    "            employees = cursor.fetchall()\n",
    " \n",
    "            # Recorrer e imprimir\n",
    "            for emp in employees:\n",
    "                print(emp)\n",
    "    finally:\n",
    "        conexion.close()\n",
    "    \n",
    "except (pymysql.err.OperationalError, pymysql.err.InternalError) as e:\n",
    "    print(\"Ocurrió un error al conectar: \", e)"
   ]
  },
  {
   "cell_type": "code",
   "execution_count": null,
   "id": "018f4713",
   "metadata": {},
   "outputs": [],
   "source": []
  },
  {
   "cell_type": "markdown",
   "id": "968607b4",
   "metadata": {},
   "source": [
    "### Insertamos un valor en la tabla employees\n"
   ]
  },
  {
   "cell_type": "code",
   "execution_count": null,
   "id": "3dd938b3",
   "metadata": {},
   "outputs": [],
   "source": [
    "\n",
    "try:\n",
    "    conexion = pymysql.connect(host='localhost',\n",
    "                             user='root',\n",
    "                             password='********',\n",
    "                             db='employees')\n",
    "    try:\n",
    "        with conexion.cursor() as cursor:\n",
    "            # En este caso no necesitamos limpiar ningún dato\n",
    "            # Para probar, agregar al final de a sentencia SQL: LIMIT 100\n",
    "            cursor.execute(\"SELECT * FROM employees;\")\n",
    " \n",
    "            # Con fetchall traemos todas las filas\n",
    "            employees = cursor.fetchall()\n",
    " \n",
    "            # Recorrer e imprimir\n",
    "            for emp in employees:\n",
    "                print(emp)\n",
    "    finally:\n",
    "        conexion.close()\n",
    "    \n",
    "except (pymysql.err.OperationalError, pymysql.err.InternalError) as e:\n",
    "    print(\"Ocurrió un error al conectar: \", e)"
   ]
  },
  {
   "cell_type": "code",
   "execution_count": null,
   "id": "a07f07cc",
   "metadata": {},
   "outputs": [],
   "source": [
    "conexion = pymysql.connect(host='localhost',\n",
    "                             user='root',\n",
    "                             password='********',\n",
    "                             db='employees')\n",
    "cursor= conexion.cursor() \n",
    "cantidad_total = cursor.execute(\"SELECT * FROM employees\")  \n",
    "print('Total de empleados ', cantidad_total)\n",
    "conexion.close()"
   ]
  },
  {
   "cell_type": "markdown",
   "id": "c5a6aee4",
   "metadata": {},
   "source": [
    "## Ejercicio\n",
    "\n",
    "### 1- Cargar en un dataframa los datos de las consultas.\n",
    "\n"
   ]
  },
  {
   "cell_type": "code",
   "execution_count": null,
   "id": "35f63bd5",
   "metadata": {},
   "outputs": [],
   "source": [
    "conexion = pymysql.connect(host='localhost',\n",
    "                             user='root',\n",
    "                             password='********',\n",
    "                             db='employees')\n",
    "cursor= conexion.cursor() \n",
    "\n",
    "emp = \"SELECT * FROM employees\"\n",
    "df_emp = pd.read_sql_query(emp,conexion)\n",
    "\n",
    "\n",
    "mujeres = \"SELECT * FROM employees WHERE gender ='F';\"\n",
    "df_mujeres = pd.read_sql_query(mujeres,conexion)\n",
    "\n",
    "conexion.close()"
   ]
  },
  {
   "cell_type": "code",
   "execution_count": null,
   "id": "544b9319",
   "metadata": {},
   "outputs": [],
   "source": [
    "df.head(10)"
   ]
  },
  {
   "cell_type": "code",
   "execution_count": null,
   "id": "d2f1b764",
   "metadata": {},
   "outputs": [],
   "source": [
    "df_mujeres.head(10)\n"
   ]
  },
  {
   "cell_type": "markdown",
   "id": "ec724074",
   "metadata": {},
   "source": [
    "## 1er Ejercicio\n",
    "#### Obtener los datos completos de los empleados."
   ]
  },
  {
   "cell_type": "code",
   "execution_count": null,
   "id": "13ace833",
   "metadata": {},
   "outputs": [],
   "source": [
    "try:\n",
    "    conexion = pymysql.connect(host='localhost',\n",
    "                             user='root',\n",
    "                             password='********',\n",
    "                             db='employees')\n",
    "    try:\n",
    "        with conexion.cursor() as cursor:\n",
    "            # En este caso no necesitamos limpiar ningún dato\n",
    "            cursor.execute(\"SELECT * FROM employees;\")\n",
    " \n",
    "            # Con fetchall traemos todas las filas\n",
    "            employees = cursor.fetchall()\n",
    " \n",
    "            # Recorrer e imprimir\n",
    "            for emp in employees:\n",
    "                print(emp)\n",
    "    finally:\n",
    "        conexion.close()\n",
    "    \n",
    "except (pymysql.err.OperationalError, pymysql.err.InternalError) as e:\n",
    "    print(\"Ocurrió un error al conectar: \", e)"
   ]
  },
  {
   "cell_type": "markdown",
   "id": "de86a66c",
   "metadata": {},
   "source": [
    "### 2do Ejercicio\n",
    "#### Obtener los datos completos de los departamentos."
   ]
  },
  {
   "cell_type": "code",
   "execution_count": null,
   "id": "6f3ddff2",
   "metadata": {},
   "outputs": [],
   "source": [
    "try:\n",
    "    conexion = pymysql.connect(host='localhost',\n",
    "                             user='root',\n",
    "                             password='********',\n",
    "                             db='employees')\n",
    "    try:\n",
    "        with conexion.cursor() as cursor:\n",
    "            # En este caso no necesitamos limpiar ningún dato\n",
    "            cursor.execute(\"SELECT * FROM departments;\")\n",
    " \n",
    "            # Con fetchall traemos todas las filas\n",
    "            deptos = cursor.fetchall()\n",
    " \n",
    "            # Recorrer e imprimir\n",
    "            for dept in deptos:\n",
    "                print(dept)\n",
    "    finally:\n",
    "        conexion.close()\n",
    "    \n",
    "except (pymysql.err.OperationalError, pymysql.err.InternalError) as e:\n",
    "    print(\"Ocurrió un error al conectar: \", e)\n",
    "\n",
    "\n"
   ]
  },
  {
   "cell_type": "markdown",
   "id": "6cd09aa2",
   "metadata": {},
   "source": [
    "### 3er Ejercicio\n",
    "### Obtener la cantidad de empleados de sexo femnino."
   ]
  },
  {
   "cell_type": "code",
   "execution_count": null,
   "id": "222e8492",
   "metadata": {},
   "outputs": [],
   "source": [
    "conexion = pymysql.connect(host='localhost',\n",
    "                             user='root',\n",
    "                             password='********',\n",
    "                             db='employees')\n",
    "cursor= conexion.cursor()\n",
    "cursor= conexion.cursor() \n",
    "cantidad_mujeres = cursor.execute(\"SELECT * FROM employees WHERE gender ='F';\")   \n",
    "print('El total de  mujeres es: ', cantidad_mujeres)\n",
    "\n",
    "conexion.close()"
   ]
  },
  {
   "cell_type": "markdown",
   "id": "4e4fb36b",
   "metadata": {},
   "source": [
    "### 4to Ejercicio.\n",
    "### Obtener los empleados que son o han sido \"staff\". Recordar que es una consulta multi tablas"
   ]
  },
  {
   "cell_type": "code",
   "execution_count": null,
   "id": "16c2eb79",
   "metadata": {},
   "outputs": [],
   "source": [
    "conexion = pymysql.connect(host='localhost',\n",
    "                             user='root',\n",
    "                             password='********',\n",
    "                             db='employees')\n",
    "cursor= conexion.cursor() \n",
    "cantidad_total = cursor.execute(\"SELECT * FROM employees\")  \n",
    "print('Total de empleados es: ', cantidad_total)\n",
    "\n",
    "conexion.close()"
   ]
  },
  {
   "cell_type": "markdown",
   "id": "f5fd914a",
   "metadata": {},
   "source": [
    "### 5to Ejercicio\n",
    "### Agregar el departamento Cienca de Datos."
   ]
  },
  {
   "cell_type": "code",
   "execution_count": null,
   "id": "48901cde",
   "metadata": {},
   "outputs": [],
   "source": [
    "try:\n",
    "    conexion = pymysql.connect(host='localhost',\n",
    "                             user='root',\n",
    "                             password='********',\n",
    "                             db='employees')\n",
    "    try:\n",
    "        with conexion.cursor() as cursor:\n",
    "            consulta = \"INSERT INTO departments(dept_no, dept_name) VALUES ('d010', 'Data Science');\"\n",
    "            cursor.execute(consulta)\n",
    "        conexion.commit()\n",
    "        print('Insercion correcta')\n",
    "    except:\n",
    "        print('No se pudo realizar la consulta')\n",
    "except (pymysql.err.OperationalError, pymysql.err.InternalError) as e:\n",
    "    print(\"Ocurrió un error al conectar: \", e)"
   ]
  },
  {
   "cell_type": "markdown",
   "id": "b2655e7f",
   "metadata": {},
   "source": [
    "### 6to Ejercicio\n",
    "### Agregar el empleado \"Pepe\" y hacerlo jefe (\"manager\") del departamento Cienca de Datos."
   ]
  },
  {
   "cell_type": "code",
   "execution_count": null,
   "id": "691dcaf6",
   "metadata": {},
   "outputs": [],
   "source": [
    "try:\n",
    "    conexion = pymysql.connect(host='localhost',\n",
    "                             user='root',\n",
    "                             password='********',\n",
    "                             db='employees')\n",
    "    try:\n",
    "        with conexion.cursor() as cursor:\n",
    "            consulta = \"INSERT INTO employees(emp_no, birth_date, first_name, last_name, gender, hire_date) VALUES (666625, '1975-09-03','Pepe', 'Sanchez','M','2021-05-05');\"\n",
    "            cursor.execute(consulta)\n",
    "            consulta2 = \"INSERT INTO dept_manager(emp_no, dept_no, from_date, to_date) VALUES (666625, 'd010', '2021-05-05' ,'2021-11-01');\"\n",
    "            cursor.execute(consulta2)\n",
    "        conexion.commit()\n",
    "    \n",
    "        print('Insercion correcta')\n",
    "\n",
    "    except:\n",
    "        print('No se pudo realizar la consulta')\n",
    "except (pymysql.err.OperationalError, pymysql.err.InternalError) as e:\n",
    "    print(\"Ocurrió un error al conectar: \", e)"
   ]
  },
  {
   "cell_type": "markdown",
   "id": "cc1d26c4",
   "metadata": {},
   "source": [
    "### 7mo Ejercicio\n",
    "### Borrar el empleado \"Pepe\"."
   ]
  },
  {
   "cell_type": "code",
   "execution_count": null,
   "id": "a1517fd5",
   "metadata": {},
   "outputs": [],
   "source": [
    "try:\n",
    "    conexion = pymysql.connect(host='localhost',\n",
    "                             user='root',\n",
    "                             password='********',\n",
    "                             db='employees')\n",
    "    try:\n",
    "        with conexion.cursor() as cursor:\n",
    "            consulta = \"DELETE FROM employees WHERE first_name = 'Pepe';\"\n",
    "            cursor.execute(consulta)\n",
    "        \n",
    "        conexion.commit()\n",
    "        print('Borrado correcto')\n",
    "\n",
    "    except:\n",
    "        print('No se pudo realizar la consulta')\n",
    "except (pymysql.err.OperationalError, pymysql.err.InternalError) as e:\n",
    "    print(\"Ocurrió un error al conectar: \", e)"
   ]
  },
  {
   "cell_type": "code",
   "execution_count": null,
   "id": "6e9196c4",
   "metadata": {},
   "outputs": [],
   "source": []
  }
 ],
 "metadata": {
  "kernelspec": {
   "display_name": "Python 3",
   "language": "python",
   "name": "python3"
  },
  "language_info": {
   "codemirror_mode": {
    "name": "ipython",
    "version": 3
   },
   "file_extension": ".py",
   "mimetype": "text/x-python",
   "name": "python",
   "nbconvert_exporter": "python",
   "pygments_lexer": "ipython3",
   "version": "3.8.8"
  }
 },
 "nbformat": 4,
 "nbformat_minor": 5
}
