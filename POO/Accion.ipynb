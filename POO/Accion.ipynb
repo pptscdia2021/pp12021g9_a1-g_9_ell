{
 "cells": [
  {
   "cell_type": "code",
   "execution_count": 1,
   "id": "7a6312c1-5355-4879-8c5f-69928b4364de",
   "metadata": {},
   "outputs": [],
   "source": [
    "class Accion:\n",
    "    def __init__(self, nombre, ticker, pais, from_date, to_date):\n",
    "        self.nombre = nombre\n",
    "        self.ticker = ticker\n",
    "        self.pais = pais\n",
    "        self.from_date = from_date\n",
    "        self.to_date = to_date\n",
    "    def __str__(self):\n",
    "        return \"Accion: \" + self.nombre + \" - Ticker: \" + self.ticker + \" - Pais: \" + self.pais + \" - fecha desde:  \" + self.from_date + \" - fecha hasta: \" + self.to_date\n",
    "    \n",
    "    def investPy(self):\n",
    "        import investpy\n",
    "        import pandas as pd\n",
    "        df_accion=investpy.get_stock_historical_data(stock = self.ticker,\n",
    "                                        country= self.pais,\n",
    "                                        from_date= self.from_date,\n",
    "                                        to_date= self.to_date)\n",
    "        return df_accion\n",
    "   \n",
    "    def graficar(self, df_accion):\n",
    "        \n",
    "        import matplotlib.pyplot as plt\n",
    "\n",
    "        x=df_accion['Date']\n",
    "        y=df_accion['Close']\n",
    "        plt.plot(x,y,marker=\"o\")\n",
    "        plt.xlabel(\"Fecha\")\n",
    "        plt.xticks(rotation=30, ha='right')\n",
    "        plt.ylabel(\"Close\", fontsize=15)\n",
    "        plt.title(\"Compania: \"+str(self.nombre)+ \" - Pais: \"+ str(self.pais), fontsize=25)\n",
    "\n",
    "        plt.gcf().set_size_inches(15, 10)\n",
    "        plt.show()"
   ]
  },
  {
   "cell_type": "code",
   "execution_count": 12,
   "id": "ad4cf14e-086c-43d3-9778-c3731972c0ad",
   "metadata": {},
   "outputs": [],
   "source": [
    "def main():\n",
    "    import pandas as pd\n",
    "    accion_nombre=str(input(\"Ingrese el nombre de la Compania: \"))\n",
    "    pais=str(input(\"Ingrese el pais: \"))\n",
    "    ticker=str(input(\"Ingrese el ticker: \"))\n",
    "    from_date=str(input(\"Ingrese la fecha de inicio: \"))\n",
    "    to_date=str(input(\"Ingrese la fecha de fin: \"))\n",
    "    accion=Accion(accion_nombre, ticker, pais, from_date, to_date)\n",
    "    print('\\n')\n",
    "    print(accion)\n",
    "    print('\\n')\n",
    "    \n",
    "    df_accion=pd.DataFrame(accion.investPy())\n",
    "    df_accion['Date'] = df_accion.index\n",
    "\n",
    "    print(df_accion)\n",
    "    accion.graficar(df_accion)\n"
   ]
  },
  {
   "cell_type": "code",
   "execution_count": 13,
   "id": "18623a4f-07cf-4e43-bf68-0aaba3455d7f",
   "metadata": {},
   "outputs": [
    {
     "name": "stdout",
     "output_type": "stream",
     "text": [
      "Ingrese el nombre de la Compania: YPF\n",
      "Ingrese el pais: spain\n",
      "Ingrese el ticker: ypf\n",
      "Ingrese la fecha de inicio: 10/11/2021\n",
      "Ingrese la fecha de fin: 25/11/2021\n",
      "\n",
      "\n",
      "Accion: YPF - Ticker: ypf - Pais: spain - fecha desde:  10/11/2021 - fecha hasta: 25/11/2021\n",
      "\n",
      "\n"
     ]
    },
    {
     "ename": "RuntimeError",
     "evalue": "ERR#0018: stock ypf not found, check if it is correct.",
     "output_type": "error",
     "traceback": [
      "\u001b[1;31m---------------------------------------------------------------------------\u001b[0m",
      "\u001b[1;31mRuntimeError\u001b[0m                              Traceback (most recent call last)",
      "\u001b[1;32m<ipython-input-13-972361fa1b80>\u001b[0m in \u001b[0;36m<module>\u001b[1;34m\u001b[0m\n\u001b[0;32m      1\u001b[0m \u001b[1;32mif\u001b[0m \u001b[0m__name__\u001b[0m \u001b[1;33m==\u001b[0m \u001b[1;34m\"__main__\"\u001b[0m\u001b[1;33m:\u001b[0m\u001b[1;33m\u001b[0m\u001b[1;33m\u001b[0m\u001b[0m\n\u001b[1;32m----> 2\u001b[1;33m     \u001b[0mmain\u001b[0m\u001b[1;33m(\u001b[0m\u001b[1;33m)\u001b[0m\u001b[1;33m\u001b[0m\u001b[1;33m\u001b[0m\u001b[0m\n\u001b[0m",
      "\u001b[1;32m<ipython-input-12-9c741fc0ebd4>\u001b[0m in \u001b[0;36mmain\u001b[1;34m()\u001b[0m\n\u001b[0;32m     11\u001b[0m     \u001b[0mprint\u001b[0m\u001b[1;33m(\u001b[0m\u001b[1;34m'\\n'\u001b[0m\u001b[1;33m)\u001b[0m\u001b[1;33m\u001b[0m\u001b[1;33m\u001b[0m\u001b[0m\n\u001b[0;32m     12\u001b[0m \u001b[1;33m\u001b[0m\u001b[0m\n\u001b[1;32m---> 13\u001b[1;33m     \u001b[0mdf_accion\u001b[0m\u001b[1;33m=\u001b[0m\u001b[0mpd\u001b[0m\u001b[1;33m.\u001b[0m\u001b[0mDataFrame\u001b[0m\u001b[1;33m(\u001b[0m\u001b[0maccion\u001b[0m\u001b[1;33m.\u001b[0m\u001b[0minvestPy\u001b[0m\u001b[1;33m(\u001b[0m\u001b[1;33m)\u001b[0m\u001b[1;33m)\u001b[0m\u001b[1;33m\u001b[0m\u001b[1;33m\u001b[0m\u001b[0m\n\u001b[0m\u001b[0;32m     14\u001b[0m     \u001b[0mdf_accion\u001b[0m\u001b[1;33m[\u001b[0m\u001b[1;34m'Date'\u001b[0m\u001b[1;33m]\u001b[0m \u001b[1;33m=\u001b[0m \u001b[0mdf_accion\u001b[0m\u001b[1;33m.\u001b[0m\u001b[0mindex\u001b[0m\u001b[1;33m\u001b[0m\u001b[1;33m\u001b[0m\u001b[0m\n\u001b[0;32m     15\u001b[0m \u001b[1;33m\u001b[0m\u001b[0m\n",
      "\u001b[1;32m<ipython-input-1-f994eb0a3a2d>\u001b[0m in \u001b[0;36minvestPy\u001b[1;34m(self)\u001b[0m\n\u001b[0;32m     12\u001b[0m         \u001b[1;32mimport\u001b[0m \u001b[0minvestpy\u001b[0m\u001b[1;33m\u001b[0m\u001b[1;33m\u001b[0m\u001b[0m\n\u001b[0;32m     13\u001b[0m         \u001b[1;32mimport\u001b[0m \u001b[0mpandas\u001b[0m \u001b[1;32mas\u001b[0m \u001b[0mpd\u001b[0m\u001b[1;33m\u001b[0m\u001b[1;33m\u001b[0m\u001b[0m\n\u001b[1;32m---> 14\u001b[1;33m         df_accion=investpy.get_stock_historical_data(stock = self.ticker,\n\u001b[0m\u001b[0;32m     15\u001b[0m                                         \u001b[0mcountry\u001b[0m\u001b[1;33m=\u001b[0m \u001b[0mself\u001b[0m\u001b[1;33m.\u001b[0m\u001b[0mpais\u001b[0m\u001b[1;33m,\u001b[0m\u001b[1;33m\u001b[0m\u001b[1;33m\u001b[0m\u001b[0m\n\u001b[0;32m     16\u001b[0m                                         \u001b[0mfrom_date\u001b[0m\u001b[1;33m=\u001b[0m \u001b[0mself\u001b[0m\u001b[1;33m.\u001b[0m\u001b[0mfrom_date\u001b[0m\u001b[1;33m,\u001b[0m\u001b[1;33m\u001b[0m\u001b[1;33m\u001b[0m\u001b[0m\n",
      "\u001b[1;32m~\\anaconda3\\lib\\site-packages\\investpy\\stocks.py\u001b[0m in \u001b[0;36mget_stock_historical_data\u001b[1;34m(stock, country, from_date, to_date, as_json, order, interval)\u001b[0m\n\u001b[0;32m    517\u001b[0m \u001b[1;33m\u001b[0m\u001b[0m\n\u001b[0;32m    518\u001b[0m     \u001b[1;32mif\u001b[0m \u001b[0mstock\u001b[0m \u001b[1;32mnot\u001b[0m \u001b[1;32min\u001b[0m \u001b[0mlist\u001b[0m\u001b[1;33m(\u001b[0m\u001b[0mstocks\u001b[0m\u001b[1;33m[\u001b[0m\u001b[1;34m'symbol'\u001b[0m\u001b[1;33m]\u001b[0m\u001b[1;33m.\u001b[0m\u001b[0mapply\u001b[0m\u001b[1;33m(\u001b[0m\u001b[0munidecode\u001b[0m\u001b[1;33m)\u001b[0m\u001b[1;33m.\u001b[0m\u001b[0mstr\u001b[0m\u001b[1;33m.\u001b[0m\u001b[0mlower\u001b[0m\u001b[1;33m(\u001b[0m\u001b[1;33m)\u001b[0m\u001b[1;33m)\u001b[0m\u001b[1;33m:\u001b[0m\u001b[1;33m\u001b[0m\u001b[1;33m\u001b[0m\u001b[0m\n\u001b[1;32m--> 519\u001b[1;33m         \u001b[1;32mraise\u001b[0m \u001b[0mRuntimeError\u001b[0m\u001b[1;33m(\u001b[0m\u001b[1;34m\"ERR#0018: stock \"\u001b[0m \u001b[1;33m+\u001b[0m \u001b[0mstock\u001b[0m \u001b[1;33m+\u001b[0m \u001b[1;34m\" not found, check if it is correct.\"\u001b[0m\u001b[1;33m)\u001b[0m\u001b[1;33m\u001b[0m\u001b[1;33m\u001b[0m\u001b[0m\n\u001b[0m\u001b[0;32m    520\u001b[0m \u001b[1;33m\u001b[0m\u001b[0m\n\u001b[0;32m    521\u001b[0m     \u001b[0msymbol\u001b[0m \u001b[1;33m=\u001b[0m \u001b[0mstocks\u001b[0m\u001b[1;33m.\u001b[0m\u001b[0mloc\u001b[0m\u001b[1;33m[\u001b[0m\u001b[1;33m(\u001b[0m\u001b[0mstocks\u001b[0m\u001b[1;33m[\u001b[0m\u001b[1;34m'symbol'\u001b[0m\u001b[1;33m]\u001b[0m\u001b[1;33m.\u001b[0m\u001b[0mapply\u001b[0m\u001b[1;33m(\u001b[0m\u001b[0munidecode\u001b[0m\u001b[1;33m)\u001b[0m\u001b[1;33m.\u001b[0m\u001b[0mstr\u001b[0m\u001b[1;33m.\u001b[0m\u001b[0mlower\u001b[0m\u001b[1;33m(\u001b[0m\u001b[1;33m)\u001b[0m \u001b[1;33m==\u001b[0m \u001b[0mstock\u001b[0m\u001b[1;33m)\u001b[0m\u001b[1;33m.\u001b[0m\u001b[0midxmax\u001b[0m\u001b[1;33m(\u001b[0m\u001b[1;33m)\u001b[0m\u001b[1;33m,\u001b[0m \u001b[1;34m'symbol'\u001b[0m\u001b[1;33m]\u001b[0m\u001b[1;33m\u001b[0m\u001b[1;33m\u001b[0m\u001b[0m\n",
      "\u001b[1;31mRuntimeError\u001b[0m: ERR#0018: stock ypf not found, check if it is correct."
     ]
    }
   ],
   "source": [
    "if __name__ == \"__main__\":\n",
    "    main()"
   ]
  },
  {
   "cell_type": "code",
   "execution_count": null,
   "id": "7dcbe45c",
   "metadata": {},
   "outputs": [],
   "source": []
  },
  {
   "cell_type": "code",
   "execution_count": null,
   "id": "ebc0e03a",
   "metadata": {},
   "outputs": [],
   "source": []
  }
 ],
 "metadata": {
  "kernelspec": {
   "display_name": "Python 3",
   "language": "python",
   "name": "python3"
  },
  "language_info": {
   "codemirror_mode": {
    "name": "ipython",
    "version": 3
   },
   "file_extension": ".py",
   "mimetype": "text/x-python",
   "name": "python",
   "nbconvert_exporter": "python",
   "pygments_lexer": "ipython3",
   "version": "3.8.8"
  }
 },
 "nbformat": 4,
 "nbformat_minor": 5
}
