{
 "cells": [
  {
   "cell_type": "code",
   "execution_count": null,
   "id": "7a6312c1-5355-4879-8c5f-69928b4364de",
   "metadata": {},
   "outputs": [],
   "source": [
    "class Accion:\n",
    "    def __init__(self, nombre, ticker, pais, from_date, to_date):\n",
    "        self.nombre = nombre\n",
    "        self.ticker = ticker\n",
    "        self.pais = pais\n",
    "        self.from_date = from_date\n",
    "        self.to_date = to_date\n",
    "    def __str__(self):\n",
    "        return \"Accion: \" + self.nombre + \"Ticker: \" + self.ticker + \"Pais: \" + self.pais + \"fecha desde:  \" + self.from_date + \"fecha hasta: \" + self.to_date\n",
    "    \n",
    "    def investPy(self):\n",
    "        import investpy\n",
    "        import pandas as pd\n",
    "        df_accion=investpy.get_stock_historical_data(stock = self.ticker,\n",
    "                                        country= self.pais,\n",
    "                                        from_date= self.from_date,\n",
    "                                        to_date= self.to_date)\n",
    "        return df_accion\n",
    "    "
   ]
  },
  {
   "cell_type": "code",
   "execution_count": null,
   "id": "ad4cf14e-086c-43d3-9778-c3731972c0ad",
   "metadata": {},
   "outputs": [],
   "source": [
    "def main():\n",
    "\n",
    "    accion_nombre=str(input(\"Ingrese el nombre de la accion: \"))\n",
    "    pais=str(input(\"Ingrese el pais: \"))\n",
    "    ticker=str(input(\"Ingrese el ticker: \"))\n",
    "    from_date=str(input(\"Ingrese la fecha de inicio: \"))\n",
    "    to_date=str(input(\"Ingrese la fecha de fin: \"))\n",
    "    accion=Accion(accion_nombre, ticker, pais, from_date, to_date)\n",
    "    print(accion)\n",
    "    \n",
    "    df_accion=accion.investPy()\n",
    "    \n",
    "    print('\\n'+ df_accion)\n"
   ]
  },
  {
   "cell_type": "code",
   "execution_count": null,
   "id": "18623a4f-07cf-4e43-bf68-0aaba3455d7f",
   "metadata": {},
   "outputs": [],
   "source": [
    "if __name__ == \"__main__\":\n",
    "    main()"
   ]
  },
  {
   "cell_type": "code",
   "execution_count": null,
   "id": "7dcbe45c",
   "metadata": {},
   "outputs": [],
   "source": []
  }
 ],
 "metadata": {
  "kernelspec": {
   "display_name": "Python 3",
   "language": "python",
   "name": "python3"
  },
  "language_info": {
   "codemirror_mode": {
    "name": "ipython",
    "version": 3
   },
   "file_extension": ".py",
   "mimetype": "text/x-python",
   "name": "python",
   "nbconvert_exporter": "python",
   "pygments_lexer": "ipython3",
   "version": "3.8.8"
  }
 },
 "nbformat": 4,
 "nbformat_minor": 5
}
