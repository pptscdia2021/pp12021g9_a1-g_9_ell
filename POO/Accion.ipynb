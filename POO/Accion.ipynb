{
 "cells": [
  {
   "cell_type": "code",
   "execution_count": 8,
   "id": "7a6312c1-5355-4879-8c5f-69928b4364de",
   "metadata": {},
   "outputs": [],
   "source": [
    "class Accion:\n",
    "    def __init__(Self, nombre, abreviatura):\n",
    "        Self.nombre = nombre\n",
    "        Self.abreviatura = abreviatura"
   ]
  },
  {
   "cell_type": "code",
   "execution_count": 7,
   "id": "ad4cf14e-086c-43d3-9778-c3731972c0ad",
   "metadata": {},
   "outputs": [],
   "source": []
  },
  {
   "cell_type": "code",
   "execution_count": null,
   "id": "18623a4f-07cf-4e43-bf68-0aaba3455d7f",
   "metadata": {},
   "outputs": [],
   "source": []
  }
 ],
 "metadata": {
  "kernelspec": {
   "display_name": "Python 3",
   "language": "python",
   "name": "python3"
  },
  "language_info": {
   "codemirror_mode": {
    "name": "ipython",
    "version": 3
   },
   "file_extension": ".py",
   "mimetype": "text/x-python",
   "name": "python",
   "nbconvert_exporter": "python",
   "pygments_lexer": "ipython3",
   "version": "3.8.8"
  }
 },
 "nbformat": 4,
 "nbformat_minor": 5
}
