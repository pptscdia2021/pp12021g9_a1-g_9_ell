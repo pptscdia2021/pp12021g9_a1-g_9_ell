{
 "cells": [
  {
   "cell_type": "code",
   "execution_count": 1,
   "id": "9c7dd211",
   "metadata": {},
   "outputs": [],
   "source": [
    "#Imports\n",
    "import pymongo\n",
    "import pandas as pd"
   ]
  },
  {
   "cell_type": "code",
   "execution_count": 2,
   "id": "d9aa39cd",
   "metadata": {},
   "outputs": [],
   "source": [
    "#Conexión a MongoDB\n",
    "client = pymongo.MongoClient('localhost',27017)\n",
    "db = client['mongo']"
   ]
  },
  {
   "cell_type": "code",
   "execution_count": 3,
   "id": "263045b1",
   "metadata": {},
   "outputs": [],
   "source": [
    "#Colección\n",
    "collection = db['income']"
   ]
  },
  {
   "cell_type": "code",
   "execution_count": 10,
   "id": "5bd288b4",
   "metadata": {},
   "outputs": [
    {
     "data": {
      "text/plain": [
       "'age,workclass,fnlwgt,education,education-num,marital-status,occupation,relationship,race,sex,capital-gain,capital-loss,hours-per-week,native-country,label'"
      ]
     },
     "execution_count": 10,
     "metadata": {},
     "output_type": "execute_result"
    }
   ],
   "source": [
    "#Lee un archivo, \n",
    "#Para que?\n",
    "#Donde está este archivo?\n",
    "#Como proceder para continuar con el programa??\n",
    "\n",
    "with open('income_header.txt') as finput:\n",
    "    column_names = finput.readline()\n",
    "column_names"
   ]
  },
  {
   "cell_type": "code",
   "execution_count": 11,
   "id": "213f6089",
   "metadata": {},
   "outputs": [
    {
     "data": {
      "text/plain": [
       "['age',\n",
       " 'workclass',\n",
       " 'fnlwgt',\n",
       " 'education',\n",
       " 'education-num',\n",
       " 'marital-status',\n",
       " 'occupation',\n",
       " 'relationship',\n",
       " 'race',\n",
       " 'sex',\n",
       " 'capital-gain',\n",
       " 'capital-loss',\n",
       " 'hours-per-week',\n",
       " 'native-country',\n",
       " 'label']"
      ]
     },
     "execution_count": 11,
     "metadata": {},
     "output_type": "execute_result"
    }
   ],
   "source": [
    "column_names_list = column_names.split(',')\n",
    "column_names_list"
   ]
  },
  {
   "cell_type": "code",
   "execution_count": 12,
   "id": "13b075d4",
   "metadata": {},
   "outputs": [],
   "source": [
    "#with open('income.txt')as finput:\n",
    "with open('adult.data')as finput:\n",
    "    for line in finput:\n",
    "        row_list =line.rstrip('\\n').split(',')\n",
    "        row_dict = dict(zip(column_names_list,row_list))\n",
    "        try:\n",
    "            row_dict['age']= int(row_dict['age'])\n",
    "            collection.insert_one(row_dict)\n",
    "        except:\n",
    "            pass"
   ]
  },
  {
   "cell_type": "code",
   "execution_count": 13,
   "id": "6607bd26",
   "metadata": {},
   "outputs": [
    {
     "name": "stderr",
     "output_type": "stream",
     "text": [
      "<ipython-input-13-7c4bc5758cb0>:1: DeprecationWarning: count is deprecated. Use estimated_document_count or count_documents instead. Please note that $where must be replaced by $expr, $near must be replaced by $geoWithin with $center, and $nearSphere must be replaced by $geoWithin with $centerSphere\n",
      "  collection.count()\n"
     ]
    },
    {
     "data": {
      "text/plain": [
       "32561"
      ]
     },
     "execution_count": 13,
     "metadata": {},
     "output_type": "execute_result"
    }
   ],
   "source": [
    "collection.count()\n"
   ]
  },
  {
   "cell_type": "markdown",
   "id": "bc76a958",
   "metadata": {},
   "source": [
    "## Read operation using find ( ) in MongoDB\n"
   ]
  },
  {
   "cell_type": "code",
   "execution_count": 14,
   "id": "e1b9bba0",
   "metadata": {},
   "outputs": [
    {
     "name": "stdout",
     "output_type": "stream",
     "text": [
      "{'_id': ObjectId('6188705c33ba5c6701e8044e'), 'age': 39, 'workclass': ' State-gov', 'fnlwgt': ' 77516', 'education': ' Bachelors', 'education-num': ' 13', 'marital-status': ' Never-married', 'occupation': ' Adm-clerical', 'relationship': ' Not-in-family', 'race': ' White', 'sex': ' Male', 'capital-gain': ' 2174', 'capital-loss': ' 0', 'hours-per-week': ' 40', 'native-country': ' United-States', 'label': ' <=50K'}\n"
     ]
    }
   ],
   "source": [
    "age39 = collection.find_one({'age':{'$eq' : 39}}) #alternatively, {'age': 39} can be used\n",
    "print(age39)"
   ]
  },
  {
   "cell_type": "markdown",
   "id": "75e4a1e5",
   "metadata": {},
   "source": [
    "#  Ejercicio 9.\n",
    "###  Compartir el código en Python para crear en MongoDB una base de datos denominada \"weatherHistory\" y una colección con el mismo nombre. Cargar los datos del archivo csv denominado weatherHistory.csv"
   ]
  },
  {
   "cell_type": "code",
   "execution_count": 15,
   "id": "21ac2c58",
   "metadata": {},
   "outputs": [],
   "source": [
    "import csv"
   ]
  },
  {
   "cell_type": "code",
   "execution_count": 16,
   "id": "7917c0f9",
   "metadata": {},
   "outputs": [],
   "source": [
    "client = pymongo.MongoClient('localhost',27017)\n",
    "db = client.meteorology"
   ]
  },
  {
   "cell_type": "code",
   "execution_count": 17,
   "id": "2e639182",
   "metadata": {},
   "outputs": [],
   "source": [
    "collection = db['weather']"
   ]
  },
  {
   "cell_type": "code",
   "execution_count": 18,
   "id": "b227aba5",
   "metadata": {},
   "outputs": [
    {
     "data": {
      "text/plain": [
       "'Formatted_Date,Summary,Precip_Type,Temperature_C,Apparent_Temperature_C,Humidity,Wind_Speed_km_h,Wind_Bearing_degrees,Visibility_km,Loud_Cover,Pressure_millibars,Daily_Summary\\\\n'"
      ]
     },
     "execution_count": 18,
     "metadata": {},
     "output_type": "execute_result"
    }
   ],
   "source": [
    "with open('weather_header.txt') as finput:\n",
    "    column_names = finput.readline()\n",
    "column_names"
   ]
  },
  {
   "cell_type": "code",
   "execution_count": 19,
   "id": "c3244fee",
   "metadata": {},
   "outputs": [
    {
     "data": {
      "text/plain": [
       "['Formatted_Date',\n",
       " 'Summary',\n",
       " 'Precip_Type',\n",
       " 'Temperature_C',\n",
       " 'Apparent_Temperature_C',\n",
       " 'Humidity',\n",
       " 'Wind_Speed_km_h',\n",
       " 'Wind_Bearing_degrees',\n",
       " 'Visibility_km',\n",
       " 'Loud_Cover',\n",
       " 'Pressure_millibars',\n",
       " 'Daily_Summary\\\\n']"
      ]
     },
     "execution_count": 19,
     "metadata": {},
     "output_type": "execute_result"
    }
   ],
   "source": [
    "column_names_list = column_names.split(',')\n",
    "column_names_list"
   ]
  },
  {
   "cell_type": "code",
   "execution_count": 20,
   "id": "0046ae93",
   "metadata": {},
   "outputs": [],
   "source": [
    "with open('weatherHistory.csv') as csvfile:\n",
    "    reader = csv.reader(csvfile, delimiter=',', lineterminator='.')\n",
    "   \n",
    "    for line in reader:\n",
    "        #print(line)\n",
    "        row_list =line\n",
    "        row_dict = dict(zip(column_names_list,row_list))\n",
    "        try:\n",
    "            row_dict['Formatted_Date']= str(row_dict['Formatted_Date'])\n",
    "            collection.insert_one(row_dict)\n",
    "        except:\n",
    "            pass\n"
   ]
  },
  {
   "cell_type": "markdown",
   "id": "63b45f09",
   "metadata": {},
   "source": [
    "#  Ejercicio 10.\n",
    "### Compartir el código en en Python que devuelva la cantidad de registros insertados en la colección anterior."
   ]
  },
  {
   "cell_type": "code",
   "execution_count": 21,
   "id": "b24c53eb",
   "metadata": {},
   "outputs": [
    {
     "name": "stderr",
     "output_type": "stream",
     "text": [
      "<ipython-input-21-7c4bc5758cb0>:1: DeprecationWarning: count is deprecated. Use estimated_document_count or count_documents instead. Please note that $where must be replaced by $expr, $near must be replaced by $geoWithin with $center, and $nearSphere must be replaced by $geoWithin with $centerSphere\n",
      "  collection.count()\n"
     ]
    },
    {
     "data": {
      "text/plain": [
       "96454"
      ]
     },
     "execution_count": 21,
     "metadata": {},
     "output_type": "execute_result"
    }
   ],
   "source": [
    "collection.count()\n"
   ]
  },
  {
   "cell_type": "code",
   "execution_count": null,
   "id": "1fc71fc9",
   "metadata": {},
   "outputs": [],
   "source": []
  }
 ],
 "metadata": {
  "kernelspec": {
   "display_name": "Python 3",
   "language": "python",
   "name": "python3"
  },
  "language_info": {
   "codemirror_mode": {
    "name": "ipython",
    "version": 3
   },
   "file_extension": ".py",
   "mimetype": "text/x-python",
   "name": "python",
   "nbconvert_exporter": "python",
   "pygments_lexer": "ipython3",
   "version": "3.8.8"
  }
 },
 "nbformat": 4,
 "nbformat_minor": 5
}
