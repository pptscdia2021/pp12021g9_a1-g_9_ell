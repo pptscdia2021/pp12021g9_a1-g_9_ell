{
 "cells": [
  {
   "cell_type": "code",
   "execution_count": 2,
   "source": [
    "# Importamos la libreria 'yfinance'\r\n",
    "import yfinance as yf\r\n"
   ],
   "outputs": [],
   "metadata": {
    "collapsed": true,
    "jupyter": {
     "outputs_hidden": true
    }
   }
  },
  {
   "cell_type": "code",
   "execution_count": 3,
   "source": [
    "# llamamos al modulo ticker (YPF)\r\n",
    "ypf = yf.Ticker(\"YPF\")\r\n",
    "\r\n",
    "# Obtenemos info de la accion\r\n",
    "print(ypf.info)\r\n",
    "\r\n"
   ],
   "outputs": [
    {
     "output_type": "stream",
     "name": "stdout",
     "text": [
      "{'zip': 'C1106BKK', 'sector': 'Energy', 'longBusinessSummary': \"YPF Sociedad AnÃ³nima, an energy company, operates in the oil and gas upstream and downstream activities in Argentina. The company's upstream operations consist of the exploration, development, and production of crude oil, natural gas, and liquefied petroleum gas (LPG). Its downstream operations include the refining, marketing, transportation, and distribution of oil, petroleum products, petroleum derivatives, petrochemicals, LPG, and bio-fuels, as well as in gas separation and natural gas distribution operations. As of December 31, 2020, it had interests in 123 oil and gas fields; approximately 483 million barrels (mmbbl) of oil; and approximately 2,110 billion cubic feet (bcf) of gas. It also had a retail distribution network of 1,632 YPF-branded service stations; 20 exploration permits, including 16 onshore and four offshore exploration permits, as well as 103 production concessions; and 36 crude oil treatment plants and 11 pumping plants. In addition, the company owns and operates three refineries with combined annual refining capacity of approximately 116 mmbbl; approximately 2,800 kilometers of crude oil pipelines with approximately 640,000 barrels of aggregate daily transportation capacity of refined products; and crude oil tankage of approximately 7 mmbbl, as well as maintains terminal facilities at five Argentine ports. Further, it participates in 18 power generation plants with an aggregate installed capacity of 2,858 megawatts; offers diesel, fertilizers, lubricants, phytosanitary products, and ensiling bags; and supplies diesel, gasoline, fuel oil, coal, asphalts, paraffin, and sulfur, CO2, decanted oil, and aromatic extract. The company was founded in 1977 and is headquartered in Buenos Aires, Argentina.\", 'city': 'Buenos Aires', 'phone': '54 11 5441 2000', 'country': 'Argentina', 'companyOfficers': [], 'website': 'http://www.ypf.com', 'maxAge': 1, 'address1': 'Macacha GUeemes 515', 'fax': '54 11 5775 2165', 'industry': 'Oil & Gas Integrated', 'ebitdaMargins': 0.2495, 'profitMargins': -0.04202, 'grossMargins': 0.14955, 'operatingCashflow': 303917989888, 'revenueGrowth': 1.365, 'operatingMargins': 0.00538, 'ebitda': 227472998400, 'targetLowPrice': 1.3, 'recommendationKey': 'underperform', 'grossProfits': 47343000000, 'freeCashflow': 75388747776, 'targetMedianPrice': 4, 'currentPrice': 4.67, 'earningsGrowth': None, 'currentRatio': 1.035, 'returnOnAssets': 0.0016, 'numberOfAnalystOpinions': 11, 'targetMeanPrice': 4.35, 'debtToEquity': 103.268, 'returnOnEquity': -0.0626, 'targetHighPrice': 6.5, 'totalCash': 89399001088, 'totalDebt': 759695015936, 'totalRevenue': 911720972288, 'totalCashPerShare': 227.297, 'financialCurrency': 'ARS', 'revenuePerShare': 2322.007, 'quickRatio': 0.655, 'recommendationMean': 3.6, 'exchange': 'NYQ', 'shortName': 'YPF Sociedad Anonima', 'longName': 'YPF Sociedad Anónima', 'exchangeTimezoneName': 'America/New_York', 'exchangeTimezoneShortName': 'EDT', 'isEsgPopulated': False, 'gmtOffSetMilliseconds': '-14400000', 'quoteType': 'EQUITY', 'symbol': 'YPF', 'messageBoardId': 'finmb_382296', 'market': 'us_market', 'annualHoldingsTurnover': None, 'enterpriseToRevenue': 0.744, 'beta3Year': None, 'enterpriseToEbitda': 2.982, '52WeekChange': 0.2493298, 'morningStarRiskRating': None, 'forwardEps': 1.28, 'revenueQuarterlyGrowth': None, 'sharesOutstanding': 393312992, 'fundInceptionDate': None, 'annualReportExpenseRatio': None, 'totalAssets': None, 'bookValue': 1854.369, 'sharesShort': 3021366, 'sharesPercentSharesOut': 0.0077, 'fundFamily': None, 'lastFiscalYearEnd': 1609372800, 'heldPercentInstitutions': 0.14472, 'netIncomeToCommon': -38314000384, 'trailingEps': -0.989, 'lastDividendValue': None, 'SandP52WeekChange': 0.26372707, 'priceToBook': 0.0025183768, 'heldPercentInsiders': 0, 'nextFiscalYearEnd': 1672444800, 'yield': None, 'mostRecentQuarter': 1625011200, 'shortRatio': 1.81, 'sharesShortPreviousMonthDate': 1628812800, 'floatShares': 192672138, 'beta': 2.183041, 'enterpriseValue': 678436798464, 'priceHint': 4, 'threeYearAverageReturn': None, 'lastSplitDate': None, 'lastSplitFactor': None, 'legalType': None, 'lastDividendDate': None, 'morningStarOverallRating': None, 'earningsQuarterlyGrowth': None, 'priceToSalesTrailing12Months': 0.0020146205, 'dateShortInterest': 1631664000, 'pegRatio': 1.1, 'ytdReturn': None, 'forwardPE': 3.6484377, 'lastCapGain': None, 'shortPercentOfFloat': None, 'sharesShortPriorMonth': 3012600, 'impliedSharesOutstanding': None, 'category': None, 'fiveYearAverageReturn': None, 'previousClose': 4.66, 'regularMarketOpen': 4.68, 'twoHundredDayAverage': 4.557536, 'trailingAnnualDividendYield': 0.019098714, 'payoutRatio': 0, 'volume24Hr': None, 'regularMarketDayHigh': 4.745, 'navPrice': None, 'averageDailyVolume10Day': 1599633, 'regularMarketPreviousClose': 4.66, 'fiftyDayAverage': 4.911818, 'trailingAnnualDividendRate': 0.089, 'open': 4.68, 'toCurrency': None, 'averageVolume10days': 1599633, 'expireDate': None, 'algorithm': None, 'dividendRate': None, 'exDividendDate': 1562630400, 'circulatingSupply': None, 'startDate': None, 'regularMarketDayLow': 4.615, 'currency': 'USD', 'regularMarketVolume': 1113255, 'lastMarket': None, 'maxSupply': None, 'openInterest': None, 'marketCap': 1836771712, 'volumeAllCurrencies': None, 'strikePrice': None, 'averageVolume': 1411427, 'dayLow': 4.615, 'ask': 5.16, 'askSize': 800, 'volume': 1113255, 'fiftyTwoWeekHigh': 5.86, 'fromCurrency': None, 'fiveYearAvgDividendYield': None, 'fiftyTwoWeekLow': 2.98, 'bid': 4.56, 'tradeable': False, 'dividendYield': None, 'bidSize': 3000, 'dayHigh': 4.745, 'regularMarketPrice': 4.67, 'logo_url': 'https://logo.clearbit.com/ypf.com'}\n"
     ]
    }
   ],
   "metadata": {
    "collapsed": true,
    "jupyter": {
     "outputs_hidden": true
    }
   }
  },
  {
   "cell_type": "code",
   "execution_count": 9,
   "source": [
    "# Obtenemos los datos de cinco dias\r\n",
    "hist_ypf = ypf.history(period=\"30d\")\r\n",
    "print(hist_ypf)"
   ],
   "outputs": [
    {
     "output_type": "stream",
     "name": "stdout",
     "text": [
      "            Open   High    Low  Close   Volume  Dividends  Stock Splits\n",
      "Date                                                                   \n",
      "2021-08-20  4.35  4.490  4.340   4.41   838000          0             0\n",
      "2021-08-23  4.50  4.620  4.500   4.57  1186200          0             0\n",
      "2021-08-24  4.64  4.930  4.630   4.84  2186500          0             0\n",
      "2021-08-25  4.85  5.030  4.770   5.00  1593700          0             0\n",
      "2021-08-26  4.98  5.000  4.880   4.91   983600          0             0\n",
      "2021-08-27  4.97  5.130  4.950   5.07  1014700          0             0\n",
      "2021-08-30  5.08  5.260  4.920   5.20  1893800          0             0\n",
      "2021-08-31  5.21  5.290  5.140   5.21  1926400          0             0\n",
      "2021-09-01  5.21  5.270  5.020   5.04  1853000          0             0\n",
      "2021-09-02  5.09  5.170  5.010   5.05  1131300          0             0\n",
      "2021-09-03  5.05  5.050  4.910   4.94   736900          0             0\n",
      "2021-09-07  4.98  5.370  4.920   5.32  2472000          0             0\n",
      "2021-09-08  5.30  5.430  5.120   5.20  2139200          0             0\n",
      "2021-09-09  5.19  5.420  5.130   5.26  1950000          0             0\n",
      "2021-09-10  5.36  5.370  5.100   5.15  1669500          0             0\n",
      "2021-09-13  5.62  5.860  5.380   5.42  5191200          0             0\n",
      "2021-09-14  5.46  5.500  5.240   5.35  1383500          0             0\n",
      "2021-09-15  5.41  5.510  5.270   5.35  1403000          0             0\n",
      "2021-09-16  5.36  5.430  5.110   5.35  1361900          0             0\n",
      "2021-09-17  5.24  5.290  5.110   5.18  2125800          0             0\n",
      "2021-09-20  5.03  5.030  4.730   4.86  2416200          0             0\n",
      "2021-09-21  4.96  4.970  4.630   4.70  1681800          0             0\n",
      "2021-09-22  4.77  4.860  4.620   4.66  1887800          0             0\n",
      "2021-09-23  4.64  4.710  4.580   4.63  1226700          0             0\n",
      "2021-09-24  4.58  4.640  4.460   4.53  1529400          0             0\n",
      "2021-09-27  4.61  4.720  4.540   4.55  2619100          0             0\n",
      "2021-09-28  4.61  4.730  4.510   4.58  1440100          0             0\n",
      "2021-09-29  4.56  4.670  4.490   4.53  1163000          0             0\n",
      "2021-09-30  4.57  4.760  4.550   4.66  1619500          0             0\n",
      "2021-10-01  4.68  4.745  4.615   4.67  1113255          0             0\n"
     ]
    }
   ],
   "metadata": {
    "collapsed": true,
    "jupyter": {
     "outputs_hidden": true
    }
   }
  },
  {
   "cell_type": "code",
   "execution_count": 10,
   "source": [
    "hist_ypf.to_csv('df_ypf_eeuu.csv', index = False)\r\n"
   ],
   "outputs": [],
   "metadata": {}
  },
  {
   "cell_type": "code",
   "execution_count": 12,
   "source": [
    "# Graficamos la evolucion de la accion en 5 años\r\n",
    "ticker = yf.Ticker('YPF')\r\n",
    "ypf_df = ticker.history(period=\"5y\")\r\n",
    "ypf_df['Close'].plot(title=\"YPF SA stock price\")"
   ],
   "outputs": [
    {
     "output_type": "execute_result",
     "data": {
      "text/plain": [
       "<AxesSubplot:title={'center':'YPF SA stock price'}, xlabel='Date'>"
      ]
     },
     "metadata": {},
     "execution_count": 12
    },
    {
     "output_type": "display_data",
     "data": {
      "image/png": "[encoded data removed]",
      "text/plain": [
       "<Figure size 432x288 with 1 Axes>"
      ]
     },
     "metadata": {
      "needs_background": "light"
     }
    }
   ],
   "metadata": {
    "collapsed": true,
    "jupyter": {
     "outputs_hidden": true
    },
    "tags": []
   }
  },
  {
   "cell_type": "code",
   "execution_count": 11,
   "source": [
    "# llamamos al modulo ticker (Mercado Libre)\r\n",
    "meli = yf.Ticker(\"MELI\")\r\n"
   ],
   "outputs": [],
   "metadata": {
    "collapsed": true,
    "jupyter": {
     "outputs_hidden": true
    },
    "tags": []
   }
  },
  {
   "cell_type": "code",
   "execution_count": 12,
   "source": [
    "# Obtenemos info de la accion\r\n",
    "print(meli.info)"
   ],
   "outputs": [
    {
     "output_type": "stream",
     "name": "stdout",
     "text": [
      "{'zip': 'C1430EKG', 'sector': 'Consumer Cyclical', 'fullTimeEmployees': 15546, 'longBusinessSummary': 'MercadoLibre, Inc. operates online commerce platforms in Latin America. It operates Mercado Libre Marketplace, an automated online commerce platform that enables businesses, merchants, and individuals to list merchandise and conduct sales and purchases online; and Mercado Pago FinTech, a financial technology solution platform, which facilitates transactions on and off its marketplaces by providing a mechanism that allows its users to send and receive payments online, as well as allows  users  to transfer money via their websites and mobile apps. The company also offers Mercado Fondo that allows users to invest funds deposited in their Mercado Pago accounts; and Mercado Credito that extends loans to certain merchants and consumers. In addition, it provides Mercado Envios logistics solution that enables sellers on its platform to utilize third-party carriers and other logistics service providers, as well as fulfillment and warehousing services for sellers. Further, the company provides Mercado Libre Classifieds, an online classified listing service, where users can list and purchase motor vehicles, real estate, and services. Additionally, it offers Mercado Ads, an advertising platform, which enables large retailers and brands to promote their products and services on the Internet. The company also provides Mercado Shops, an online storefronts solution, that enables users to set-up, manage, and promote their own Webstores. The company was incorporated in 1999 and is headquartered in Buenos Aires, Argentina.', 'city': 'Buenos Aires', 'phone': '54 11 4640 8000', 'country': 'Argentina', 'companyOfficers': [], 'website': 'http://www.mercadolibre.com', 'maxAge': 1, 'address1': 'Pasaje Posta 4789', 'industry': 'Internet Retail', 'address2': '6th Floor', 'ebitdaMargins': 0.08462, 'profitMargins': -0.00025, 'grossMargins': 0.47787, 'operatingCashflow': 616908032, 'revenueGrowth': 0.939, 'operatingMargins': 0.05831, 'ebitda': 467447008, 'targetLowPrice': 1720, 'recommendationKey': 'buy', 'grossProfits': 2034526000, 'freeCashflow': -182816368, 'targetMedianPrice': 2036.1, 'currentPrice': 1667.6, 'earningsGrowth': 0.238, 'currentRatio': 1.18, 'returnOnAssets': 0.034730002, 'numberOfAnalystOpinions': 23, 'targetMeanPrice': 2089, 'debtToEquity': 3409.037, 'returnOnEquity': -0.00137, 'targetHighPrice': 2670, 'totalCash': 1260587008, 'totalDebt': 2762342912, 'totalRevenue': 5524195840, 'totalCashPerShare': 25.358, 'financialCurrency': 'USD', 'revenuePerShare': 110.91, 'quickRatio': 0.651, 'recommendationMean': 1.9, 'exchange': 'NMS', 'shortName': 'MercadoLibre, Inc.', 'longName': 'MercadoLibre, Inc.', 'exchangeTimezoneName': 'America/New_York', 'exchangeTimezoneShortName': 'EDT', 'isEsgPopulated': False, 'gmtOffSetMilliseconds': '-14400000', 'quoteType': 'EQUITY', 'symbol': 'MELI', 'messageBoardId': 'finmb_34322384', 'market': 'us_market', 'annualHoldingsTurnover': None, 'enterpriseToRevenue': 15.278, 'beta3Year': None, 'enterpriseToEbitda': 180.557, '52WeekChange': 0.5290946, 'morningStarRiskRating': None, 'forwardEps': 6.84, 'revenueQuarterlyGrowth': None, 'sharesOutstanding': 49711600, 'fundInceptionDate': None, 'annualReportExpenseRatio': None, 'totalAssets': None, 'bookValue': 1.63, 'sharesShort': 1258284, 'sharesPercentSharesOut': 0.0253, 'fundFamily': None, 'lastFiscalYearEnd': 1609372800, 'heldPercentInstitutions': 0.83087, 'netIncomeToCommon': -2562000, 'trailingEps': -0.051, 'lastDividendValue': None, 'SandP52WeekChange': 0.26372707, 'priceToBook': 1023.06744, 'heldPercentInsiders': 0.0825, 'nextFiscalYearEnd': 1672444800, 'yield': None, 'mostRecentQuarter': 1625011200, 'shortRatio': 4.23, 'sharesShortPreviousMonthDate': 1628812800, 'floatShares': 45616901, 'beta': 1.512008, 'enterpriseValue': 84400906240, 'priceHint': 2, 'threeYearAverageReturn': None, 'lastSplitDate': None, 'lastSplitFactor': None, 'legalType': None, 'lastDividendDate': None, 'morningStarOverallRating': None, 'earningsQuarterlyGrowth': 0.219, 'priceToSalesTrailing12Months': 15.00654, 'dateShortInterest': 1631664000, 'pegRatio': 39.25, 'ytdReturn': None, 'forwardPE': 243.80116, 'lastCapGain': None, 'shortPercentOfFloat': 0.0276, 'sharesShortPriorMonth': 1478393, 'impliedSharesOutstanding': None, 'category': None, 'fiveYearAverageReturn': None, 'previousClose': 1679.4, 'regularMarketOpen': 1692.15, 'twoHundredDayAverage': 1589.0894, 'trailingAnnualDividendYield': 8.931762e-05, 'payoutRatio': 0, 'volume24Hr': None, 'regularMarketDayHigh': 1700.39, 'navPrice': None, 'averageDailyVolume10Day': 362628, 'regularMarketPreviousClose': 1679.4, 'fiftyDayAverage': 1833.9808, 'trailingAnnualDividendRate': 0.15, 'open': 1692.15, 'toCurrency': None, 'averageVolume10days': 362628, 'expireDate': None, 'algorithm': None, 'dividendRate': None, 'exDividendDate': 1514419200, 'circulatingSupply': None, 'startDate': None, 'regularMarketDayLow': 1652.4393, 'currency': 'USD', 'regularMarketVolume': 254927, 'lastMarket': None, 'maxSupply': None, 'openInterest': None, 'marketCap': 82899066880, 'volumeAllCurrencies': None, 'strikePrice': None, 'averageVolume': 326947, 'dayLow': 1652.4393, 'ask': 1669.99, 'askSize': 900, 'volume': 254927, 'fiftyTwoWeekHigh': 2020, 'fromCurrency': None, 'fiveYearAvgDividendYield': None, 'fiftyTwoWeekLow': 1079.08, 'bid': 1665.81, 'tradeable': False, 'dividendYield': None, 'bidSize': 1200, 'dayHigh': 1700.39, 'regularMarketPrice': 1667.6, 'logo_url': 'https://logo.clearbit.com/mercadolibre.com'}\n"
     ]
    }
   ],
   "metadata": {
    "collapsed": true,
    "jupyter": {
     "outputs_hidden": true
    },
    "tags": []
   }
  },
  {
   "cell_type": "code",
   "execution_count": 14,
   "source": [
    "# Obtenemos los datos de cinco dias\r\n",
    "hist_meli = meli.history(period=\"30d\")\r\n",
    "print(hist_meli)"
   ],
   "outputs": [
    {
     "output_type": "stream",
     "name": "stdout",
     "text": [
      "                   Open         High          Low        Close  Volume  \\\n",
      "Date                                                                     \n",
      "2021-08-20  1756.000000  1799.479980  1753.500000  1786.540039  232100   \n",
      "2021-08-23  1793.010010  1817.489990  1771.209961  1810.000000  427300   \n",
      "2021-08-24  1834.380005  1865.890015  1825.099976  1855.290039  357800   \n",
      "2021-08-25  1860.869995  1872.300049  1844.449951  1871.939941  260300   \n",
      "2021-08-26  1864.489990  1864.489990  1827.510010  1835.680054  262000   \n",
      "2021-08-27  1835.000000  1874.560059  1830.920044  1865.000000  253400   \n",
      "2021-08-30  1853.550049  1910.000000  1853.550049  1878.900024  285400   \n",
      "2021-08-31  1890.000000  1891.069946  1848.219971  1867.449951  278400   \n",
      "2021-09-01  1878.000000  1915.410034  1876.150024  1896.510010  311100   \n",
      "2021-09-02  1903.079956  1970.130005  1903.079956  1931.329956  450500   \n",
      "2021-09-03  1928.880005  1962.000000  1924.619995  1946.010010  228800   \n",
      "2021-09-07  1953.119995  1962.790039  1920.000000  1953.829956  195200   \n",
      "2021-09-08  1949.560059  1949.560059  1882.189941  1906.140015  334600   \n",
      "2021-09-09  1901.719971  1916.680054  1879.310059  1883.410034  288700   \n",
      "2021-09-10  1904.989990  1922.560059  1847.250000  1847.410034  327300   \n",
      "2021-09-13  1858.780029  1868.239990  1811.790039  1852.609985  221700   \n",
      "2021-09-14  1861.310059  1875.000000  1837.530029  1856.339966  174700   \n",
      "2021-09-15  1846.000000  1898.619995  1836.800049  1889.260010  239000   \n",
      "2021-09-16  1883.680054  1905.319946  1875.000000  1881.349976  203900   \n",
      "2021-09-17  1892.939941  1903.660034  1871.800049  1878.229980  295100   \n",
      "2021-09-20  1821.130005  1857.140015  1777.949951  1820.699951  383500   \n",
      "2021-09-21  1827.790039  1862.670044  1817.689941  1838.589966  203700   \n",
      "2021-09-22  1850.760010  1888.839966  1840.900024  1879.489990  197400   \n",
      "2021-09-23  1895.000000  1913.770020  1869.000000  1886.489990  211900   \n",
      "2021-09-24  1858.699951  1876.939941  1830.000000  1869.619995  236500   \n",
      "2021-09-27  1842.560059  1844.949951  1755.579956  1768.150024  509600   \n",
      "2021-09-28  1720.000000  1736.020020  1665.000000  1682.010010  588000   \n",
      "2021-09-29  1697.339966  1720.000000  1648.569946  1662.989990  371200   \n",
      "2021-09-30  1665.969971  1696.579956  1641.010010  1679.400024  366400   \n",
      "2021-10-01  1692.150024  1700.390015  1650.069946  1667.599976  254800   \n",
      "\n",
      "            Dividends  Stock Splits  \n",
      "Date                                 \n",
      "2021-08-20          0             0  \n",
      "2021-08-23          0             0  \n",
      "2021-08-24          0             0  \n",
      "2021-08-25          0             0  \n",
      "2021-08-26          0             0  \n",
      "2021-08-27          0             0  \n",
      "2021-08-30          0             0  \n",
      "2021-08-31          0             0  \n",
      "2021-09-01          0             0  \n",
      "2021-09-02          0             0  \n",
      "2021-09-03          0             0  \n",
      "2021-09-07          0             0  \n",
      "2021-09-08          0             0  \n",
      "2021-09-09          0             0  \n",
      "2021-09-10          0             0  \n",
      "2021-09-13          0             0  \n",
      "2021-09-14          0             0  \n",
      "2021-09-15          0             0  \n",
      "2021-09-16          0             0  \n",
      "2021-09-17          0             0  \n",
      "2021-09-20          0             0  \n",
      "2021-09-21          0             0  \n",
      "2021-09-22          0             0  \n",
      "2021-09-23          0             0  \n",
      "2021-09-24          0             0  \n",
      "2021-09-27          0             0  \n",
      "2021-09-28          0             0  \n",
      "2021-09-29          0             0  \n",
      "2021-09-30          0             0  \n",
      "2021-10-01          0             0  \n"
     ]
    }
   ],
   "metadata": {
    "collapsed": true,
    "jupyter": {
     "outputs_hidden": true
    }
   }
  },
  {
   "cell_type": "code",
   "execution_count": 15,
   "source": [
    "hist_meli.to_csv('df_meli_eeuu.csv', index = False)\r\n"
   ],
   "outputs": [],
   "metadata": {}
  },
  {
   "cell_type": "code",
   "execution_count": 18,
   "source": [
    "# Graficamos la evolucion de la accion en 5 años\r\n",
    "ticker = yf.Ticker('MELI')\r\n",
    "meli_df = ticker.history(period=\"5y\")\r\n",
    "meli_df['Close'].plot(title=\"Mercado Libre INC. stock price\")"
   ],
   "outputs": [
    {
     "output_type": "execute_result",
     "data": {
      "text/plain": [
       "<AxesSubplot:title={'center':'Mercado Libre INC. stock price'}, xlabel='Date'>"
      ]
     },
     "metadata": {},
     "execution_count": 18
    },
    {
     "output_type": "display_data",
     "data": {
      "image/png": "[encoded data removed]",
      "text/plain": [
       "<Figure size 432x288 with 1 Axes>"
      ]
     },
     "metadata": {
      "needs_background": "light"
     }
    }
   ],
   "metadata": {
    "collapsed": true,
    "jupyter": {
     "outputs_hidden": true
    },
    "tags": []
   }
  },
  {
   "cell_type": "code",
   "execution_count": null,
   "source": [],
   "outputs": [],
   "metadata": {
    "collapsed": true,
    "jupyter": {
     "outputs_hidden": true
    },
    "tags": []
   }
  },
  {
   "cell_type": "code",
   "execution_count": null,
   "source": [],
   "outputs": [],
   "metadata": {
    "collapsed": true,
    "jupyter": {
     "outputs_hidden": true
    }
   }
  }
 ],
 "metadata": {
  "kernelspec": {
   "name": "python3",
   "display_name": "Python 3.8.8 64-bit ('base': conda)"
  },
  "language_info": {
   "codemirror_mode": {
    "name": "ipython",
    "version": 3
   },
   "file_extension": ".py",
   "mimetype": "text/x-python",
   "name": "python",
   "nbconvert_exporter": "python",
   "pygments_lexer": "ipython3",
   "version": "3.8.8"
  },
  "interpreter": {
   "hash": "7f949684540970575b0062cc2668a615512eda9309bc9f43166d06c4c5b01bea"
  }
 },
 "nbformat": 4,
 "nbformat_minor": 5
}